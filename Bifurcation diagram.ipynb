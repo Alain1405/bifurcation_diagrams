{
 "cells": [
  {
   "cell_type": "code",
   "execution_count": null,
   "metadata": {
    "scrolled": true
   },
   "outputs": [],
   "source": [
    "import numpy as np\n",
    "import matplotlib.pyplot as plt"
   ]
  },
  {
   "cell_type": "code",
   "execution_count": null,
   "metadata": {
    "scrolled": true
   },
   "outputs": [],
   "source": [
    "# Logistic function implementation\n",
    "def logistic_eq(r,x):\n",
    "    return r*x*(1-x)"
   ]
  },
  {
   "cell_type": "code",
   "execution_count": null,
   "metadata": {},
   "outputs": [],
   "source": [
    "# Show the logistic function\n",
    "x = np.linspace(0, 1)\n",
    "plt.plot(x, logistic_eq(2, x), 'k')\n",
    "plt.show()\n",
    "\n",
    "# logistic_eq(4.0009, 0.75)"
   ]
  },
  {
   "cell_type": "code",
   "execution_count": null,
   "metadata": {
    "scrolled": true
   },
   "outputs": [],
   "source": [
    "# Iterate the function for a given r\n",
    "def logistic_equation_orbit(seed, r, n_iter, n_skip=0):\n",
    "    print('Orbit for seed {0}, growth rate of {1}, plotting {2} iterations after skipping {3}'.format(seed, r, n_iter, n_skip))\n",
    "    X_t=[]\n",
    "    T=[]\n",
    "    t=0\n",
    "    x = seed;\n",
    "    # Iterate the logistic equation, printing only if n_skip steps have been skipped\n",
    "    for i in range(n_iter + n_skip):\n",
    "        if i >= n_skip:\n",
    "            X_t.append(x)\n",
    "            T.append(t)\n",
    "            t+=1\n",
    "        x = logistic_eq(r,x);\n",
    "    # Configure and decorate the plot\n",
    "    plt.plot(T, X_t)\n",
    "    plt.ylim(0, 1)\n",
    "    plt.xlim(0, T[-1])\n",
    "    plt.xlabel('Time t')\n",
    "    plt.ylabel('X_t')\n",
    "    plt.show()"
   ]
  },
  {
   "cell_type": "code",
   "execution_count": null,
   "metadata": {
    "scrolled": false
   },
   "outputs": [],
   "source": [
    "logistic_equation_orbit(0.1, 3.05, 100)\n",
    "logistic_equation_orbit(0.1, 3.9, 100)\n",
    "logistic_equation_orbit(0.1, 3.9, 100, 1000)"
   ]
  },
  {
   "cell_type": "code",
   "execution_count": null,
   "metadata": {
    "scrolled": true
   },
   "outputs": [],
   "source": [
    "# Create the bifurcation diagram\n",
    "def bifurcation_diagram(seed, n_skip, n_iter, step=0.0001, r_min=0):\n",
    "    print(\"Starting with x0 seed {0}, skip plotting first {1} iterations, then plot next {2} iterations.\".format(seed, n_skip, n_iter));\n",
    "    # Array of r values, the x axis of the bifurcation plot\n",
    "    R = []\n",
    "    # Array of x_t values, the y axis of the bifurcation plot\n",
    "    X = []\n",
    "    \n",
    "    # Create the r values to loop. For each r value we will plot n_iter points\n",
    "    r_range = np.linspace(r_min, 4, int(1/step))\n",
    "\n",
    "    for r in r_range:\n",
    "        x = seed;\n",
    "        # For each r, iterate the logistic function and collect datapoint if n_skip iterations have occurred\n",
    "        for i in range(n_iter+n_skip+1):\n",
    "            if i >= n_skip:\n",
    "                R.append(r)\n",
    "                X.append(x)\n",
    "                \n",
    "            x = logistic_eq(r,x);\n",
    "    # Plot the data    \n",
    "    plt.plot(R, X, ls='', marker=',')\n",
    "    plt.ylim(0, 1)\n",
    "    plt.xlim(r_min, 4)\n",
    "    plt.xlabel('r')\n",
    "    plt.ylabel('X')\n",
    "    plt.show()"
   ]
  },
  {
   "cell_type": "code",
   "execution_count": null,
   "metadata": {
    "scrolled": false
   },
   "outputs": [],
   "source": [
    "bifurcation_diagram(0.2, 100, 5)\n",
    "bifurcation_diagram(0.2, 100, 10)\n",
    "bifurcation_diagram(0.2, 100, 10, r_min=2.8)"
   ]
  },
  {
   "cell_type": "code",
   "execution_count": null,
   "metadata": {},
   "outputs": [],
   "source": []
  }
 ],
 "metadata": {
  "kernelspec": {
   "display_name": "Python 3",
   "language": "python",
   "name": "python3"
  },
  "language_info": {
   "codemirror_mode": {
    "name": "ipython",
    "version": 3
   },
   "file_extension": ".py",
   "mimetype": "text/x-python",
   "name": "python",
   "nbconvert_exporter": "python",
   "pygments_lexer": "ipython3",
   "version": "3.6.5"
  }
 },
 "nbformat": 4,
 "nbformat_minor": 2
}
