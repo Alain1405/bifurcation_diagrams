{
 "cells": [
  {
   "cell_type": "code",
   "execution_count": 15,
   "metadata": {},
   "outputs": [],
   "source": [
    "# Logistic function implementation\n",
    "def logis(r,x):\n",
    "    return r*x*(1-x)"
   ]
  },
  {
   "cell_type": "code",
   "execution_count": 20,
   "metadata": {},
   "outputs": [],
   "source": [
    "# Iterate the function for a given r\n",
    "# Return an array of results\n",
    "def logis_map(seed, r, n_iter, n_skip=0):\n",
    "    values = []\n",
    "    x = logis(r,seed);\n",
    "    for i in range(n_iter+n_skip-1):\n",
    "        x = logis(r,x);\n",
    "        if i >= n_skip:\n",
    "            values.append(x);\n",
    "    return values"
   ]
  },
  {
   "cell_type": "code",
   "execution_count": 21,
   "metadata": {},
   "outputs": [
    {
     "name": "stdout",
     "output_type": "stream",
     "text": [
      "[0.7377049180327874, 0.5901639344262287, 0.7377049180327874, 0.5901639344262287, 0.7377049180327874, 0.5901639344262287, 0.7377049180327874, 0.5901639344262287, 0.7377049180327874]\n"
     ]
    }
   ],
   "source": [
    "v=logis_map(0.2, 3.05, 10, 1000)\n",
    "print(v)"
   ]
  },
  {
   "cell_type": "code",
   "execution_count": null,
   "metadata": {},
   "outputs": [],
   "source": []
  }
 ],
 "metadata": {
  "kernelspec": {
   "display_name": "Python 3",
   "language": "python",
   "name": "python3"
  },
  "language_info": {
   "codemirror_mode": {
    "name": "ipython",
    "version": 3
   },
   "file_extension": ".py",
   "mimetype": "text/x-python",
   "name": "python",
   "nbconvert_exporter": "python",
   "pygments_lexer": "ipython3",
   "version": "3.6.5"
  }
 },
 "nbformat": 4,
 "nbformat_minor": 2
}
