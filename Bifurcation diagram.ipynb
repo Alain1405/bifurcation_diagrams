{
 "cells": [
  {
   "cell_type": "code",
   "execution_count": 9,
   "metadata": {},
   "outputs": [],
   "source": [
    "# Logistic function implementation\n",
    "def logis(r,x):\n",
    "    return r*x*(1-x)"
   ]
  },
  {
   "cell_type": "code",
   "execution_count": 10,
   "metadata": {},
   "outputs": [],
   "source": [
    "# Iterate the function for a given r\n",
    "# Allow to skip steps\n",
    "def logis_map(seed, r, n_iter, n_skip=0):\n",
    "    x = logis(r,seed);\n",
    "    for i in range(n_iter+n_skip-1):\n",
    "        x = logis(r,x);\n",
    "        if i >= n_skip:\n",
    "            print(x)"
   ]
  },
  {
   "cell_type": "code",
   "execution_count": 12,
   "metadata": {},
   "outputs": [
    {
     "name": "stdout",
     "output_type": "stream",
     "text": [
      "0.7377049180327874\n",
      "0.5901639344262287\n",
      "0.7377049180327874\n",
      "0.5901639344262287\n",
      "0.7377049180327874\n",
      "0.5901639344262287\n",
      "0.7377049180327874\n",
      "0.5901639344262287\n",
      "0.7377049180327874\n"
     ]
    }
   ],
   "source": [
    "logis_map(0.2, 3.05, 10, 1000)"
   ]
  },
  {
   "cell_type": "code",
   "execution_count": 14,
   "metadata": {},
   "outputs": [
    {
     "data": {
      "text/plain": [
       "sys.version_info(major=3, minor=6, micro=5, releaselevel='final', serial=0)"
      ]
     },
     "execution_count": 14,
     "metadata": {},
     "output_type": "execute_result"
    }
   ],
   "source": [
    "import sys\n",
    "sys.version\n",
    "sys.version_info"
   ]
  },
  {
   "cell_type": "code",
   "execution_count": null,
   "metadata": {},
   "outputs": [],
   "source": []
  }
 ],
 "metadata": {
  "kernelspec": {
   "display_name": "Python 3",
   "language": "python",
   "name": "python3"
  },
  "language_info": {
   "codemirror_mode": {
    "name": "ipython",
    "version": 3
   },
   "file_extension": ".py",
   "mimetype": "text/x-python",
   "name": "python",
   "nbconvert_exporter": "python",
   "pygments_lexer": "ipython3",
   "version": "3.6.5"
  }
 },
 "nbformat": 4,
 "nbformat_minor": 2
}
