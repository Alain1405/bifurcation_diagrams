{
 "cells": [
  {
   "cell_type": "code",
   "execution_count": null,
   "metadata": {
    "scrolled": true
   },
   "outputs": [],
   "source": [
    "import numpy as np"
   ]
  },
  {
   "cell_type": "code",
   "execution_count": null,
   "metadata": {
    "scrolled": true
   },
   "outputs": [],
   "source": [
    "# Logistic function implementation\n",
    "def logis(r,x):\n",
    "    return r*x*(1-x)"
   ]
  },
  {
   "cell_type": "code",
   "execution_count": null,
   "metadata": {
    "scrolled": true
   },
   "outputs": [],
   "source": [
    "# Iterate the function for a given r\n",
    "def logis_map(seed, r, n_iter, n_skip=0):\n",
    "    values = []\n",
    "    x = logis(r,seed);\n",
    "    for i in range(n_iter+n_skip-1):\n",
    "        x = logis(r,x);\n",
    "        if i >= n_skip:\n",
    "            values.append(x);\n",
    "    return values"
   ]
  },
  {
   "cell_type": "code",
   "execution_count": null,
   "metadata": {
    "scrolled": true
   },
   "outputs": [],
   "source": [
    "# Test for seed of 0.2, growth rate of 3.05 returning 10 iterations after skipping 1000\n",
    "print(logis_map(0.2, 3.05, 10, 1000))"
   ]
  },
  {
   "cell_type": "code",
   "execution_count": null,
   "metadata": {
    "scrolled": true
   },
   "outputs": [],
   "source": [
    "# Create the bifurcation diagram\n",
    "def bifurcation_diagram(seed, n_skip, n_iter, step=0.001):\n",
    "    print(\"Starting with x0 seed {0}, skip plotting first {1} iterations, then plot next {2} iterations.\".format(seed, n_skip, n_iter));\n",
    "    r_range = np.linspace(0, 1, num=int(1/step))\n",
    "    bif_diagram = []\n",
    "    for r in r_range:\n",
    "        bif_diagram.append(logis_map(seed, r, n_iter, n_skip))\n",
    "    return bif_diagram"
   ]
  },
  {
   "cell_type": "code",
   "execution_count": null,
   "metadata": {
    "scrolled": false
   },
   "outputs": [],
   "source": [
    "diagram = bifurcation_diagram(0.2, 10, 100)\n",
    "print(diagram)"
   ]
  },
  {
   "cell_type": "code",
   "execution_count": null,
   "metadata": {
    "scrolled": true
   },
   "outputs": [],
   "source": []
  }
 ],
 "metadata": {
  "kernelspec": {
   "display_name": "Python 3",
   "language": "python",
   "name": "python3"
  },
  "language_info": {
   "codemirror_mode": {
    "name": "ipython",
    "version": 3
   },
   "file_extension": ".py",
   "mimetype": "text/x-python",
   "name": "python",
   "nbconvert_exporter": "python",
   "pygments_lexer": "ipython3",
   "version": "3.6.5"
  }
 },
 "nbformat": 4,
 "nbformat_minor": 2
}
